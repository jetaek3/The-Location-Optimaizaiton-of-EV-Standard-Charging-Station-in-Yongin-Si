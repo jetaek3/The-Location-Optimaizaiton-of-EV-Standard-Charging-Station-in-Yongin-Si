{
 "cells": [
  {
   "cell_type": "markdown",
   "metadata": {},
   "source": [
    "# X_score 도출\n",
    "### 피어슨 상관관계 정도를 기준으로 수요 지수 추출\n",
    "x_score = x1 * w1/(w1+w2)  +   x2 * w2/(w1+w2)"
   ]
  },
  {
   "cell_type": "code",
   "execution_count": 2,
   "metadata": {},
   "outputs": [
    {
     "name": "stderr",
     "output_type": "stream",
     "text": [
      "100%|██████████| 15935/15935 [00:00<00:00, 29099.87it/s]\n"
     ]
    }
   ],
   "source": [
    "from sklearn.preprocessing import MinMaxScaler\n",
    "import pandas as pd\n",
    "import geopandas as gpd\n",
    "from tqdm import tqdm\n",
    "\n",
    "data = gpd.read_file('/Users/jacob/Desktop/VS_Code_Repository/DeepLearning_Alpaco/빅콘테스트2022/Raw data/용인시_Grid_filtered_v6(gas_dist).geojson')\n",
    "\n",
    "# 데이터 변환 \n",
    "mMscaler = MinMaxScaler()\n",
    "mMscaler.fit(data['val'].values.reshape(-1,1))\n",
    "mMscaled_data = mMscaler.transform(data['val'].values.reshape(-1,1))\n",
    "data['mmscaled_val']=mMscaled_data\n",
    "\n",
    "# 데이터 변환 \n",
    "mMscaler = MinMaxScaler()\n",
    "mMscaler.fit(data['ev_cnt'].values.reshape(-1,1))\n",
    "mMscaled_data = mMscaler.transform(data['ev_cnt'].values.reshape(-1,1))\n",
    "data['mmscaled_ev_cnt']=mMscaled_data\n",
    "\n",
    "# 데이터 변환 \n",
    "mMscaler = MinMaxScaler()\n",
    "mMscaler.fit(data['gas_dist'].values.reshape(-1,1))\n",
    "mMscaled_data = mMscaler.transform(data['gas_dist'].values.reshape(-1,1))\n",
    "data['mmscaled_gas_dist']=mMscaled_data\n",
    "\n",
    "# correlation 분석\n",
    "df = data[['mmscaled_val','mmscaled_ev_cnt','mmscaled_gas_dist','res_cnt']]\n",
    "df = df.corr(method='pearson')\n",
    "# 주유소 정보는 상관성이 낮으므롤 drop\n",
    "w_val, w_ev=df['res_cnt'][0],df['res_cnt'][1]\n",
    "\n",
    "# Correlation 값 기준 가중치 곱 sum 한 결과를 x_score로 사용\n",
    "tqdm.pandas()\n",
    "data['x_score']= data.progress_apply(lambda row : row.mmscaled_val * w_val/(w_val+w_ev) + row.mmscaled_ev_cnt * w_ev/(w_val+w_ev),axis=1)"
   ]
  },
  {
   "cell_type": "code",
   "execution_count": 3,
   "metadata": {},
   "outputs": [],
   "source": [
    "data.to_file('/Users/jacob/Desktop/VS_Code_Repository/DeepLearning_Alpaco/빅콘테스트2022/Raw data/용인시_Grid_filtered_v7(x_score).geojson',encoding='utf-8',index=False)"
   ]
  }
 ],
 "metadata": {
  "kernelspec": {
   "display_name": "Python 3.9.0 64-bit",
   "language": "python",
   "name": "python3"
  },
  "language_info": {
   "codemirror_mode": {
    "name": "ipython",
    "version": 3
   },
   "file_extension": ".py",
   "mimetype": "text/x-python",
   "name": "python",
   "nbconvert_exporter": "python",
   "pygments_lexer": "ipython3",
   "version": "3.9.0"
  },
  "orig_nbformat": 4,
  "vscode": {
   "interpreter": {
    "hash": "aee8b7b246df8f9039afb4144a1f6fd8d2ca17a180786b69acc140d282b71a49"
   }
  }
 },
 "nbformat": 4,
 "nbformat_minor": 2
}
