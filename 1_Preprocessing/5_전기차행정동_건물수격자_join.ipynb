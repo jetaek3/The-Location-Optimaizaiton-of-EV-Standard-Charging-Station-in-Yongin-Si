{
 "cells": [
  {
   "cell_type": "markdown",
   "metadata": {},
   "source": [
    "# 전기차 등록수 data 행정동 단위 에서 격자단위로 변환\n",
    "전기차 등록 대수 행정동 단위로 격자위에 뿌려짐(evenly) -> 행정동전기차등록수 * 격자건물수/행정동건물수  격자단위 적용"
   ]
  },
  {
   "cell_type": "code",
   "execution_count": 6,
   "metadata": {},
   "outputs": [],
   "source": [
    "import geopandas as gpd\n",
    "import pandas as pd\n",
    "from tqdm import tqdm "
   ]
  },
  {
   "cell_type": "code",
   "execution_count": 10,
   "metadata": {},
   "outputs": [],
   "source": [
    "df_build= gpd.read_file('/Users/jacob/Desktop/VS_Code_Repository/DeepLearning_Alpaco/빅콘테스트2022/Raw data/(B100)국토통계_건축물-건축물 수 합계 통계-(격자) 100M_경기도 용인시_202205/nlsp_021002021.shp',encoding='utf-8')\n",
    "df_grid=gpd.read_file('/Users/jacob/Desktop/VS_Code_Repository/DeepLearning_Alpaco/빅콘테스트2022/Raw data/용인시_Grid_filtered_v3(ev_cnt).geojson')\n",
    "df_build.fillna(0,inplace=True)"
   ]
  },
  {
   "cell_type": "code",
   "execution_count": 11,
   "metadata": {},
   "outputs": [
    {
     "data": {
      "text/html": [
       "<div>\n",
       "<style scoped>\n",
       "    .dataframe tbody tr th:only-of-type {\n",
       "        vertical-align: middle;\n",
       "    }\n",
       "\n",
       "    .dataframe tbody tr th {\n",
       "        vertical-align: top;\n",
       "    }\n",
       "\n",
       "    .dataframe thead th {\n",
       "        text-align: right;\n",
       "    }\n",
       "</style>\n",
       "<table border=\"1\" class=\"dataframe\">\n",
       "  <thead>\n",
       "    <tr style=\"text-align: right;\">\n",
       "      <th></th>\n",
       "      <th>gid</th>\n",
       "      <th>lbl</th>\n",
       "      <th>val</th>\n",
       "      <th>geometry</th>\n",
       "    </tr>\n",
       "  </thead>\n",
       "  <tbody>\n",
       "    <tr>\n",
       "      <th>0</th>\n",
       "      <td>다사748072</td>\n",
       "      <td>1.00</td>\n",
       "      <td>1.0</td>\n",
       "      <td>POLYGON ((974800.000 1907200.000, 974800.000 1...</td>\n",
       "    </tr>\n",
       "    <tr>\n",
       "      <th>1</th>\n",
       "      <td>다사750101</td>\n",
       "      <td>2.00</td>\n",
       "      <td>2.0</td>\n",
       "      <td>POLYGON ((975000.000 1910100.000, 975000.000 1...</td>\n",
       "    </tr>\n",
       "    <tr>\n",
       "      <th>2</th>\n",
       "      <td>다사914045</td>\n",
       "      <td>2.00</td>\n",
       "      <td>2.0</td>\n",
       "      <td>POLYGON ((991400.000 1904500.000, 991400.000 1...</td>\n",
       "    </tr>\n",
       "    <tr>\n",
       "      <th>3</th>\n",
       "      <td>다사918030</td>\n",
       "      <td>7.00</td>\n",
       "      <td>7.0</td>\n",
       "      <td>POLYGON ((991800.000 1903000.000, 991800.000 1...</td>\n",
       "    </tr>\n",
       "    <tr>\n",
       "      <th>4</th>\n",
       "      <td>다사708265</td>\n",
       "      <td>3.00</td>\n",
       "      <td>3.0</td>\n",
       "      <td>POLYGON ((970800.000 1926500.000, 970800.000 1...</td>\n",
       "    </tr>\n",
       "  </tbody>\n",
       "</table>\n",
       "</div>"
      ],
      "text/plain": [
       "        gid   lbl  val                                           geometry\n",
       "0  다사748072  1.00  1.0  POLYGON ((974800.000 1907200.000, 974800.000 1...\n",
       "1  다사750101  2.00  2.0  POLYGON ((975000.000 1910100.000, 975000.000 1...\n",
       "2  다사914045  2.00  2.0  POLYGON ((991400.000 1904500.000, 991400.000 1...\n",
       "3  다사918030  7.00  7.0  POLYGON ((991800.000 1903000.000, 991800.000 1...\n",
       "4  다사708265  3.00  3.0  POLYGON ((970800.000 1926500.000, 970800.000 1..."
      ]
     },
     "execution_count": 11,
     "metadata": {},
     "output_type": "execute_result"
    }
   ],
   "source": [
    "df_build.head()"
   ]
  },
  {
   "cell_type": "code",
   "execution_count": 12,
   "metadata": {},
   "outputs": [
    {
     "data": {
      "text/html": [
       "<div>\n",
       "<style scoped>\n",
       "    .dataframe tbody tr th:only-of-type {\n",
       "        vertical-align: middle;\n",
       "    }\n",
       "\n",
       "    .dataframe tbody tr th {\n",
       "        vertical-align: top;\n",
       "    }\n",
       "\n",
       "    .dataframe thead th {\n",
       "        text-align: right;\n",
       "    }\n",
       "</style>\n",
       "<table border=\"1\" class=\"dataframe\">\n",
       "  <thead>\n",
       "    <tr style=\"text-align: right;\">\n",
       "      <th></th>\n",
       "      <th>gid</th>\n",
       "      <th>lbl</th>\n",
       "      <th>val</th>\n",
       "      <th>longitude</th>\n",
       "      <th>latitude</th>\n",
       "      <th>읍면동</th>\n",
       "      <th>ev_cnt</th>\n",
       "      <th>geometry</th>\n",
       "    </tr>\n",
       "  </thead>\n",
       "  <tbody>\n",
       "    <tr>\n",
       "      <th>0</th>\n",
       "      <td>다사750101</td>\n",
       "      <td>N/A</td>\n",
       "      <td>0.0</td>\n",
       "      <td>127.218888</td>\n",
       "      <td>37.189802</td>\n",
       "      <td>이동읍</td>\n",
       "      <td>98.0</td>\n",
       "      <td>POINT (975240.056 1909843.864)</td>\n",
       "    </tr>\n",
       "    <tr>\n",
       "      <th>1</th>\n",
       "      <td>다사914045</td>\n",
       "      <td>N/A</td>\n",
       "      <td>0.0</td>\n",
       "      <td>127.403730</td>\n",
       "      <td>37.139617</td>\n",
       "      <td>백암면</td>\n",
       "      <td>67.0</td>\n",
       "      <td>POINT (991640.264 1904244.063)</td>\n",
       "    </tr>\n",
       "    <tr>\n",
       "      <th>2</th>\n",
       "      <td>다사918030</td>\n",
       "      <td>N/A</td>\n",
       "      <td>0.0</td>\n",
       "      <td>127.408251</td>\n",
       "      <td>37.126099</td>\n",
       "      <td>백암면</td>\n",
       "      <td>67.0</td>\n",
       "      <td>POINT (992040.289 1902744.057)</td>\n",
       "    </tr>\n",
       "    <tr>\n",
       "      <th>3</th>\n",
       "      <td>다사595284</td>\n",
       "      <td>N/A</td>\n",
       "      <td>0.0</td>\n",
       "      <td>127.043257</td>\n",
       "      <td>37.354210</td>\n",
       "      <td>동천동</td>\n",
       "      <td>348.0</td>\n",
       "      <td>POINT (959739.665 1928143.776)</td>\n",
       "    </tr>\n",
       "    <tr>\n",
       "      <th>4</th>\n",
       "      <td>다사720059</td>\n",
       "      <td>N/A</td>\n",
       "      <td>0.0</td>\n",
       "      <td>127.185244</td>\n",
       "      <td>37.151858</td>\n",
       "      <td>남사읍</td>\n",
       "      <td>173.0</td>\n",
       "      <td>POINT (972240.096 1905643.788)</td>\n",
       "    </tr>\n",
       "  </tbody>\n",
       "</table>\n",
       "</div>"
      ],
      "text/plain": [
       "        gid  lbl  val   longitude   latitude  읍면동  ev_cnt  \\\n",
       "0  다사750101  N/A  0.0  127.218888  37.189802  이동읍    98.0   \n",
       "1  다사914045  N/A  0.0  127.403730  37.139617  백암면    67.0   \n",
       "2  다사918030  N/A  0.0  127.408251  37.126099  백암면    67.0   \n",
       "3  다사595284  N/A  0.0  127.043257  37.354210  동천동   348.0   \n",
       "4  다사720059  N/A  0.0  127.185244  37.151858  남사읍   173.0   \n",
       "\n",
       "                         geometry  \n",
       "0  POINT (975240.056 1909843.864)  \n",
       "1  POINT (991640.264 1904244.063)  \n",
       "2  POINT (992040.289 1902744.057)  \n",
       "3  POINT (959739.665 1928143.776)  \n",
       "4  POINT (972240.096 1905643.788)  "
      ]
     },
     "execution_count": 12,
     "metadata": {},
     "output_type": "execute_result"
    }
   ],
   "source": [
    "df_grid.head()"
   ]
  },
  {
   "cell_type": "code",
   "execution_count": 13,
   "metadata": {},
   "outputs": [],
   "source": [
    "df_build=df_build.drop(columns=['lbl','geometry'])\n",
    "df_build.rename(columns = {'val' : 'grid_bld_cnt'}, inplace = True)\n",
    "result=df_grid.merge(df_build,on=['gid'])"
   ]
  },
  {
   "cell_type": "code",
   "execution_count": 14,
   "metadata": {},
   "outputs": [],
   "source": [
    "dic=result.groupby('읍면동')['grid_bld_cnt'].sum().items()\n",
    "dic = dict(dic)"
   ]
  },
  {
   "cell_type": "code",
   "execution_count": 15,
   "metadata": {},
   "outputs": [],
   "source": [
    "result['동별건물cnt']=result['읍면동']\n",
    "result.replace({'동별건물cnt':dic},inplace=True)"
   ]
  },
  {
   "cell_type": "code",
   "execution_count": 16,
   "metadata": {},
   "outputs": [
    {
     "data": {
      "text/plain": [
       "1997.0    2006\n",
       "2313.0    1681\n",
       "2212.0    1346\n",
       "2660.0    1274\n",
       "1264.0    1244\n",
       "2118.0    1195\n",
       "778.0      998\n",
       "888.0      512\n",
       "299.0      420\n",
       "425.0      378\n",
       "643.0      353\n",
       "511.0      324\n",
       "347.0      304\n",
       "491.0      256\n",
       "467.0      182\n",
       "214.0      172\n",
       "148.0      168\n",
       "326.0      130\n",
       "0.0        130\n",
       "246.0       94\n",
       "232.0       71\n",
       "24.0        62\n",
       "37.0        53\n",
       "164.0       51\n",
       "85.0        33\n",
       "1.0          7\n",
       "Name: 동별건물cnt, dtype: int64"
      ]
     },
     "execution_count": 16,
     "metadata": {},
     "output_type": "execute_result"
    }
   ],
   "source": [
    "result['동별건물cnt'].value_counts()"
   ]
  },
  {
   "cell_type": "code",
   "execution_count": 20,
   "metadata": {},
   "outputs": [
    {
     "name": "stderr",
     "output_type": "stream",
     "text": [
      "100%|██████████| 14288/14288 [00:00<00:00, 31377.16it/s]\n"
     ]
    }
   ],
   "source": [
    "tqdm.pandas()\n",
    "result['ev_cnt'] = result.progress_apply(lambda row : row.ev_cnt*row.grid_bld_cnt/(row.동별건물cnt+1),axis=1)"
   ]
  },
  {
   "cell_type": "code",
   "execution_count": 24,
   "metadata": {},
   "outputs": [],
   "source": [
    "result.drop(columns=['lbl','longitude','latitude','동별건물cnt'],inplace=True)"
   ]
  },
  {
   "cell_type": "code",
   "execution_count": 26,
   "metadata": {},
   "outputs": [],
   "source": [
    "result.to_file('/Users/jacob/Desktop/VS_Code_Repository/DeepLearning_Alpaco/빅콘테스트2022/Raw data/용인시_Grid_filtered_v4(ev_cnt by building_cnt).geojson',index=False,encoding='utf-8')"
   ]
  },
  {
   "cell_type": "code",
   "execution_count": null,
   "metadata": {},
   "outputs": [],
   "source": []
  }
 ],
 "metadata": {
  "kernelspec": {
   "display_name": "Python 3.9.0 64-bit",
   "language": "python",
   "name": "python3"
  },
  "language_info": {
   "codemirror_mode": {
    "name": "ipython",
    "version": 3
   },
   "file_extension": ".py",
   "mimetype": "text/x-python",
   "name": "python",
   "nbconvert_exporter": "python",
   "pygments_lexer": "ipython3",
   "version": "3.9.0"
  },
  "orig_nbformat": 4,
  "vscode": {
   "interpreter": {
    "hash": "aee8b7b246df8f9039afb4144a1f6fd8d2ca17a180786b69acc140d282b71a49"
   }
  }
 },
 "nbformat": 4,
 "nbformat_minor": 2
}
