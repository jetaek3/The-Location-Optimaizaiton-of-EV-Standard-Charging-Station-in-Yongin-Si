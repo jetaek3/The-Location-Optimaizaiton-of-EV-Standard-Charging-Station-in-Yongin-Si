{
 "cells": [
  {
   "cell_type": "markdown",
   "metadata": {},
   "source": [
    "# 전기차 충전소 도로명 주소 -> 좌표계 전환"
   ]
  },
  {
   "cell_type": "code",
   "execution_count": 1,
   "metadata": {},
   "outputs": [],
   "source": [
    "import numpy as np\n",
    "import pandas as pd\n",
    "from urllib.request import urlopen\n",
    "from urllib import parse\n",
    "from urllib.request import Request\n",
    "from urllib.error import HTTPError\n",
    "from bs4 import BeautifulSoup\n",
    "import json\n",
    "import pickle"
   ]
  },
  {
   "cell_type": "code",
   "execution_count": 2,
   "metadata": {},
   "outputs": [],
   "source": [
    "df = pd.read_excel('/Users/jacob/Desktop/VS_Code_Repository/DeepLearning_Alpaco/빅콘테스트2022/Raw data/충전소 리스트.xlsx',header=2)\n",
    "df=df[df['시군구']=='용인시 ']"
   ]
  },
  {
   "cell_type": "code",
   "execution_count": 3,
   "metadata": {},
   "outputs": [
    {
     "name": "stderr",
     "output_type": "stream",
     "text": [
      "100%|██████████| 4199/4199 [10:59<00:00,  6.36it/s]  \n"
     ]
    }
   ],
   "source": [
    "from urllib.request import urlopen\n",
    "from urllib import parse\n",
    "from urllib.request import Request\n",
    "from urllib.error import HTTPError\n",
    "from bs4 import BeautifulSoup\n",
    "import json\n",
    "import numpy as np\n",
    "from tqdm import tqdm\n",
    "\n",
    "#naver map api key\n",
    "client_id = 'cid';    # 본인이 할당받은 ID 입력\n",
    "client_pw = 'cpw';    # 본인이 할당받은 Secret 입력\n",
    "\n",
    "api_url = 'https://naveropenapi.apigw.ntruss.com/map-geocode/v2/geocode?query='\n",
    "\n",
    "# 주소 목록 파일 (.csv)\n",
    "data = df\n",
    "\n",
    "# 네이버 지도 API 이용해서 위경도 찾기\n",
    "geo_coordi = []     \n",
    "resp=''\n",
    "que=''\n",
    "sent=''\n",
    "for i,row in tqdm(data.iterrows(),total=data.shape[0]):\n",
    "    add = row['주소']\n",
    "    add_urlenc = parse.quote(add)  \n",
    "    url = api_url + add_urlenc\n",
    "    que=url\n",
    "    sent=add\n",
    "    request = Request(url)\n",
    "    request.add_header('X-NCP-APIGW-API-KEY-ID', client_id)\n",
    "    request.add_header('X-NCP-APIGW-API-KEY', client_pw)\n",
    "    try:\n",
    "        response = urlopen(request)\n",
    "    except HTTPError as e:\n",
    "        # print('HTTP Error!')\n",
    "        latitude = None\n",
    "        longitude = None\n",
    "    else:\n",
    "        rescode = response.getcode()\n",
    "        if rescode == 200:\n",
    "            response_body = response.read().decode('utf-8')\n",
    "            response_body = json.loads(response_body)   # json\n",
    "            resp=response_body\n",
    "            if response_body['status']=='INVALID_REQUEST' : continue\n",
    "            if response_body['addresses'] == [] :\n",
    "                # print(\"'result' not exist!\")\n",
    "                latitude = None\n",
    "                longitude = None\n",
    "            else:\n",
    "                df.at[i,'위도']= response_body['addresses'][0]['y']\n",
    "                df.at[i,'경도']= response_body['addresses'][0]['x']\n",
    "                # print(\"Success!\")\n",
    "        else:\n",
    "            print('Response error code : %d' % rescode)\n",
    "            latitude = None\n",
    "            longitude = None"
   ]
  },
  {
   "cell_type": "code",
   "execution_count": 4,
   "metadata": {},
   "outputs": [],
   "source": [
    "df.to_csv('/Users/jacob/Desktop/VS_Code_Repository/DeepLearning_Alpaco/빅콘테스트2022/Raw data/echarge_yongin_naver_xy.csv',encoding='utf-8',index=False)"
   ]
  },
  {
   "cell_type": "code",
   "execution_count": 10,
   "metadata": {},
   "outputs": [],
   "source": [
    "df.dropna(subset=['위도'],inplace=True)\n",
    "df.drop_duplicates(subset='충전소',inplace=True)\n",
    "# 공공 충전시설만 추출(수작업 필터링)\n",
    "with open('/Users/jacob/Desktop/VS_Code_Repository/DeepLearning_Alpaco/빅콘테스트2022/Bigcon_data/public.txt','rt') as f:\n",
    "    t = [i.strip() for i in f.read().split(',')]\n",
    "df= df[df['충전소'].isin(t)]\n",
    "df.to_csv()"
   ]
  },
  {
   "cell_type": "code",
   "execution_count": 12,
   "metadata": {},
   "outputs": [],
   "source": [
    "df.to_csv('/Users/jacob/Desktop/VS_Code_Repository/DeepLearning_Alpaco/빅콘테스트2022/Raw data/echarge_yongin_public_naver_xy.csv',encoding='utf-8',index=False)"
   ]
  },
  {
   "cell_type": "code",
   "execution_count": null,
   "metadata": {},
   "outputs": [],
   "source": []
  }
 ],
 "metadata": {
  "kernelspec": {
   "display_name": "Python 3.9.0 64-bit",
   "language": "python",
   "name": "python3"
  },
  "language_info": {
   "codemirror_mode": {
    "name": "ipython",
    "version": 3
   },
   "file_extension": ".py",
   "mimetype": "text/x-python",
   "name": "python",
   "nbconvert_exporter": "python",
   "pygments_lexer": "ipython3",
   "version": "3.9.0"
  },
  "orig_nbformat": 4,
  "vscode": {
   "interpreter": {
    "hash": "aee8b7b246df8f9039afb4144a1f6fd8d2ca17a180786b69acc140d282b71a49"
   }
  }
 },
 "nbformat": 4,
 "nbformat_minor": 2
}
